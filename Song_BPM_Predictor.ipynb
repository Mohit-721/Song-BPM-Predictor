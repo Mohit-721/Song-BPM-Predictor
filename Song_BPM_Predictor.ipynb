{
  "metadata": {
    "kernelspec": {
      "name": "python3",
      "display_name": "Python 3"
    },
    "language_info": {
      "name": "python"
    },
    "colab": {
      "provenance": []
    }
  },
  "nbformat_minor": 5,
  "nbformat": 4,
  "cells": [
    {
      "id": "f442e36d-1924-4bdc-8a0a-fc906eaa9166",
      "cell_type": "markdown",
      "source": [
        "SONG BEATS PER MINUTE PREDICTION (Regression Pipeline)  \n",
        " Author: Mohit Kumar  \n",
        " Date: 2025-09-09"
      ],
      "metadata": {
        "id": "f442e36d-1924-4bdc-8a0a-fc906eaa9166"
      }
    },
    {
      "id": "78a91598-aec1-4e2a-a768-822e2a22036a",
      "cell_type": "code",
      "source": [
        "# --- 1. IMPORTS ---\n",
        "import pandas as pd\n",
        "import numpy as np\n",
        "import matplotlib.pyplot as plt\n",
        "import seaborn as sns\n",
        "from sklearn.model_selection import train_test_split\n",
        "from sklearn.preprocessing import StandardScaler\n",
        "from sklearn.linear_model import LinearRegression\n",
        "from sklearn.ensemble import RandomForestRegressor, GradientBoostingRegressor\n",
        "from sklearn.metrics import mean_absolute_error, mean_squared_error"
      ],
      "metadata": {
        "trusted": true,
        "id": "78a91598-aec1-4e2a-a768-822e2a22036a"
      },
      "outputs": [],
      "execution_count": 1
    },
    {
      "id": "de138cd7-839d-4cb4-9d6c-7955e275b9a0",
      "cell_type": "code",
      "source": [
        "# --- 2. DATA LOADING & SUMMARY ---\n",
        "df = pd.read_csv(\"train.csv\")\n",
        "print(\"Shape :\", df.shape)\n",
        "print(\"\\nMissing values:\\n\", df.isnull().sum())\n",
        "print(\"\\nDescriptive Stats:\\n\", df.describe())"
      ],
      "metadata": {
        "trusted": true,
        "colab": {
          "base_uri": "https://localhost:8080/",
          "height": 373
        },
        "id": "de138cd7-839d-4cb4-9d6c-7955e275b9a0",
        "outputId": "d70b6a6a-e5a5-4308-9b81-2979fdb029f2"
      },
      "outputs": [
        {
          "output_type": "error",
          "ename": "FileNotFoundError",
          "evalue": "[Errno 2] No such file or directory: 'train.csv'",
          "traceback": [
            "\u001b[0;31m---------------------------------------------------------------------------\u001b[0m",
            "\u001b[0;31mFileNotFoundError\u001b[0m                         Traceback (most recent call last)",
            "\u001b[0;32m/tmp/ipython-input-174663905.py\u001b[0m in \u001b[0;36m<cell line: 0>\u001b[0;34m()\u001b[0m\n\u001b[1;32m      1\u001b[0m \u001b[0;31m# --- 2. DATA LOADING & SUMMARY ---\u001b[0m\u001b[0;34m\u001b[0m\u001b[0;34m\u001b[0m\u001b[0m\n\u001b[0;32m----> 2\u001b[0;31m \u001b[0mdf\u001b[0m \u001b[0;34m=\u001b[0m \u001b[0mpd\u001b[0m\u001b[0;34m.\u001b[0m\u001b[0mread_csv\u001b[0m\u001b[0;34m(\u001b[0m\u001b[0;34m\"train.csv\"\u001b[0m\u001b[0;34m)\u001b[0m\u001b[0;34m\u001b[0m\u001b[0;34m\u001b[0m\u001b[0m\n\u001b[0m\u001b[1;32m      3\u001b[0m \u001b[0mprint\u001b[0m\u001b[0;34m(\u001b[0m\u001b[0;34m\"Shape :\"\u001b[0m\u001b[0;34m,\u001b[0m \u001b[0mdf\u001b[0m\u001b[0;34m.\u001b[0m\u001b[0mshape\u001b[0m\u001b[0;34m)\u001b[0m\u001b[0;34m\u001b[0m\u001b[0;34m\u001b[0m\u001b[0m\n\u001b[1;32m      4\u001b[0m \u001b[0mprint\u001b[0m\u001b[0;34m(\u001b[0m\u001b[0;34m\"\\nMissing values:\\n\"\u001b[0m\u001b[0;34m,\u001b[0m \u001b[0mdf\u001b[0m\u001b[0;34m.\u001b[0m\u001b[0misnull\u001b[0m\u001b[0;34m(\u001b[0m\u001b[0;34m)\u001b[0m\u001b[0;34m.\u001b[0m\u001b[0msum\u001b[0m\u001b[0;34m(\u001b[0m\u001b[0;34m)\u001b[0m\u001b[0;34m)\u001b[0m\u001b[0;34m\u001b[0m\u001b[0;34m\u001b[0m\u001b[0m\n\u001b[1;32m      5\u001b[0m \u001b[0mprint\u001b[0m\u001b[0;34m(\u001b[0m\u001b[0;34m\"\\nDescriptive Stats:\\n\"\u001b[0m\u001b[0;34m,\u001b[0m \u001b[0mdf\u001b[0m\u001b[0;34m.\u001b[0m\u001b[0mdescribe\u001b[0m\u001b[0;34m(\u001b[0m\u001b[0;34m)\u001b[0m\u001b[0;34m)\u001b[0m\u001b[0;34m\u001b[0m\u001b[0;34m\u001b[0m\u001b[0m\n",
            "\u001b[0;32m/usr/local/lib/python3.12/dist-packages/pandas/io/parsers/readers.py\u001b[0m in \u001b[0;36mread_csv\u001b[0;34m(filepath_or_buffer, sep, delimiter, header, names, index_col, usecols, dtype, engine, converters, true_values, false_values, skipinitialspace, skiprows, skipfooter, nrows, na_values, keep_default_na, na_filter, verbose, skip_blank_lines, parse_dates, infer_datetime_format, keep_date_col, date_parser, date_format, dayfirst, cache_dates, iterator, chunksize, compression, thousands, decimal, lineterminator, quotechar, quoting, doublequote, escapechar, comment, encoding, encoding_errors, dialect, on_bad_lines, delim_whitespace, low_memory, memory_map, float_precision, storage_options, dtype_backend)\u001b[0m\n\u001b[1;32m   1024\u001b[0m     \u001b[0mkwds\u001b[0m\u001b[0;34m.\u001b[0m\u001b[0mupdate\u001b[0m\u001b[0;34m(\u001b[0m\u001b[0mkwds_defaults\u001b[0m\u001b[0;34m)\u001b[0m\u001b[0;34m\u001b[0m\u001b[0;34m\u001b[0m\u001b[0m\n\u001b[1;32m   1025\u001b[0m \u001b[0;34m\u001b[0m\u001b[0m\n\u001b[0;32m-> 1026\u001b[0;31m     \u001b[0;32mreturn\u001b[0m \u001b[0m_read\u001b[0m\u001b[0;34m(\u001b[0m\u001b[0mfilepath_or_buffer\u001b[0m\u001b[0;34m,\u001b[0m \u001b[0mkwds\u001b[0m\u001b[0;34m)\u001b[0m\u001b[0;34m\u001b[0m\u001b[0;34m\u001b[0m\u001b[0m\n\u001b[0m\u001b[1;32m   1027\u001b[0m \u001b[0;34m\u001b[0m\u001b[0m\n\u001b[1;32m   1028\u001b[0m \u001b[0;34m\u001b[0m\u001b[0m\n",
            "\u001b[0;32m/usr/local/lib/python3.12/dist-packages/pandas/io/parsers/readers.py\u001b[0m in \u001b[0;36m_read\u001b[0;34m(filepath_or_buffer, kwds)\u001b[0m\n\u001b[1;32m    618\u001b[0m \u001b[0;34m\u001b[0m\u001b[0m\n\u001b[1;32m    619\u001b[0m     \u001b[0;31m# Create the parser.\u001b[0m\u001b[0;34m\u001b[0m\u001b[0;34m\u001b[0m\u001b[0m\n\u001b[0;32m--> 620\u001b[0;31m     \u001b[0mparser\u001b[0m \u001b[0;34m=\u001b[0m \u001b[0mTextFileReader\u001b[0m\u001b[0;34m(\u001b[0m\u001b[0mfilepath_or_buffer\u001b[0m\u001b[0;34m,\u001b[0m \u001b[0;34m**\u001b[0m\u001b[0mkwds\u001b[0m\u001b[0;34m)\u001b[0m\u001b[0;34m\u001b[0m\u001b[0;34m\u001b[0m\u001b[0m\n\u001b[0m\u001b[1;32m    621\u001b[0m \u001b[0;34m\u001b[0m\u001b[0m\n\u001b[1;32m    622\u001b[0m     \u001b[0;32mif\u001b[0m \u001b[0mchunksize\u001b[0m \u001b[0;32mor\u001b[0m \u001b[0miterator\u001b[0m\u001b[0;34m:\u001b[0m\u001b[0;34m\u001b[0m\u001b[0;34m\u001b[0m\u001b[0m\n",
            "\u001b[0;32m/usr/local/lib/python3.12/dist-packages/pandas/io/parsers/readers.py\u001b[0m in \u001b[0;36m__init__\u001b[0;34m(self, f, engine, **kwds)\u001b[0m\n\u001b[1;32m   1618\u001b[0m \u001b[0;34m\u001b[0m\u001b[0m\n\u001b[1;32m   1619\u001b[0m         \u001b[0mself\u001b[0m\u001b[0;34m.\u001b[0m\u001b[0mhandles\u001b[0m\u001b[0;34m:\u001b[0m \u001b[0mIOHandles\u001b[0m \u001b[0;34m|\u001b[0m \u001b[0;32mNone\u001b[0m \u001b[0;34m=\u001b[0m \u001b[0;32mNone\u001b[0m\u001b[0;34m\u001b[0m\u001b[0;34m\u001b[0m\u001b[0m\n\u001b[0;32m-> 1620\u001b[0;31m         \u001b[0mself\u001b[0m\u001b[0;34m.\u001b[0m\u001b[0m_engine\u001b[0m \u001b[0;34m=\u001b[0m \u001b[0mself\u001b[0m\u001b[0;34m.\u001b[0m\u001b[0m_make_engine\u001b[0m\u001b[0;34m(\u001b[0m\u001b[0mf\u001b[0m\u001b[0;34m,\u001b[0m \u001b[0mself\u001b[0m\u001b[0;34m.\u001b[0m\u001b[0mengine\u001b[0m\u001b[0;34m)\u001b[0m\u001b[0;34m\u001b[0m\u001b[0;34m\u001b[0m\u001b[0m\n\u001b[0m\u001b[1;32m   1621\u001b[0m \u001b[0;34m\u001b[0m\u001b[0m\n\u001b[1;32m   1622\u001b[0m     \u001b[0;32mdef\u001b[0m \u001b[0mclose\u001b[0m\u001b[0;34m(\u001b[0m\u001b[0mself\u001b[0m\u001b[0;34m)\u001b[0m \u001b[0;34m->\u001b[0m \u001b[0;32mNone\u001b[0m\u001b[0;34m:\u001b[0m\u001b[0;34m\u001b[0m\u001b[0;34m\u001b[0m\u001b[0m\n",
            "\u001b[0;32m/usr/local/lib/python3.12/dist-packages/pandas/io/parsers/readers.py\u001b[0m in \u001b[0;36m_make_engine\u001b[0;34m(self, f, engine)\u001b[0m\n\u001b[1;32m   1878\u001b[0m                 \u001b[0;32mif\u001b[0m \u001b[0;34m\"b\"\u001b[0m \u001b[0;32mnot\u001b[0m \u001b[0;32min\u001b[0m \u001b[0mmode\u001b[0m\u001b[0;34m:\u001b[0m\u001b[0;34m\u001b[0m\u001b[0;34m\u001b[0m\u001b[0m\n\u001b[1;32m   1879\u001b[0m                     \u001b[0mmode\u001b[0m \u001b[0;34m+=\u001b[0m \u001b[0;34m\"b\"\u001b[0m\u001b[0;34m\u001b[0m\u001b[0;34m\u001b[0m\u001b[0m\n\u001b[0;32m-> 1880\u001b[0;31m             self.handles = get_handle(\n\u001b[0m\u001b[1;32m   1881\u001b[0m                 \u001b[0mf\u001b[0m\u001b[0;34m,\u001b[0m\u001b[0;34m\u001b[0m\u001b[0;34m\u001b[0m\u001b[0m\n\u001b[1;32m   1882\u001b[0m                 \u001b[0mmode\u001b[0m\u001b[0;34m,\u001b[0m\u001b[0;34m\u001b[0m\u001b[0;34m\u001b[0m\u001b[0m\n",
            "\u001b[0;32m/usr/local/lib/python3.12/dist-packages/pandas/io/common.py\u001b[0m in \u001b[0;36mget_handle\u001b[0;34m(path_or_buf, mode, encoding, compression, memory_map, is_text, errors, storage_options)\u001b[0m\n\u001b[1;32m    871\u001b[0m         \u001b[0;32mif\u001b[0m \u001b[0mioargs\u001b[0m\u001b[0;34m.\u001b[0m\u001b[0mencoding\u001b[0m \u001b[0;32mand\u001b[0m \u001b[0;34m\"b\"\u001b[0m \u001b[0;32mnot\u001b[0m \u001b[0;32min\u001b[0m \u001b[0mioargs\u001b[0m\u001b[0;34m.\u001b[0m\u001b[0mmode\u001b[0m\u001b[0;34m:\u001b[0m\u001b[0;34m\u001b[0m\u001b[0;34m\u001b[0m\u001b[0m\n\u001b[1;32m    872\u001b[0m             \u001b[0;31m# Encoding\u001b[0m\u001b[0;34m\u001b[0m\u001b[0;34m\u001b[0m\u001b[0m\n\u001b[0;32m--> 873\u001b[0;31m             handle = open(\n\u001b[0m\u001b[1;32m    874\u001b[0m                 \u001b[0mhandle\u001b[0m\u001b[0;34m,\u001b[0m\u001b[0;34m\u001b[0m\u001b[0;34m\u001b[0m\u001b[0m\n\u001b[1;32m    875\u001b[0m                 \u001b[0mioargs\u001b[0m\u001b[0;34m.\u001b[0m\u001b[0mmode\u001b[0m\u001b[0;34m,\u001b[0m\u001b[0;34m\u001b[0m\u001b[0;34m\u001b[0m\u001b[0m\n",
            "\u001b[0;31mFileNotFoundError\u001b[0m: [Errno 2] No such file or directory: 'train.csv'"
          ]
        }
      ],
      "execution_count": 2
    },
    {
      "id": "8436e137-cd0c-4014-b178-fe0cd11edad2",
      "cell_type": "markdown",
      "source": [
        "Observation: No missing values found, and 524,164 rows x 11 columns loaded."
      ],
      "metadata": {
        "id": "8436e137-cd0c-4014-b178-fe0cd11edad2"
      }
    },
    {
      "id": "6b3e774b-ec00-4929-8b64-88b23b0ec8ce",
      "cell_type": "code",
      "source": [
        "# --- 3. EXPLORATORY DATA ANALYSIS (EDA) ---\n",
        "\n",
        "# 3.1: Target distribution\n",
        "plt.figure(figsize=(8,4))\n",
        "sns.histplot(df['BeatsPerMinute'], bins=50, kde=True)\n",
        "plt.title('Distribution of BeatsPerMinute')\n",
        "plt.xlabel('BPM')\n",
        "plt.show()"
      ],
      "metadata": {
        "trusted": true,
        "id": "6b3e774b-ec00-4929-8b64-88b23b0ec8ce"
      },
      "outputs": [],
      "execution_count": null
    },
    {
      "id": "b3eb7931-0aba-412b-940c-ce5ab0e5a3d6",
      "cell_type": "markdown",
      "source": [
        "Observation: BPM distributes mainly between 80 and 160, with a few high outliers."
      ],
      "metadata": {
        "id": "b3eb7931-0aba-412b-940c-ce5ab0e5a3d6"
      }
    },
    {
      "id": "4e062c32-0333-4d4d-a145-4812975b5fde",
      "cell_type": "code",
      "source": [
        "# 3.2: Feature distributions (first 5 features)\n",
        "numeric_cols = df.select_dtypes(include=['float64', 'int']).columns.drop(['id'])\n",
        "for col in numeric_cols[:5]:\n",
        "    plt.figure(figsize=(6, 2))\n",
        "    sns.histplot(df[col], bins=40, kde=True)\n",
        "    plt.title(col)\n",
        "    plt.show()\n"
      ],
      "metadata": {
        "trusted": true,
        "id": "4e062c32-0333-4d4d-a145-4812975b5fde"
      },
      "outputs": [],
      "execution_count": null
    },
    {
      "id": "c633e51e-3de7-4300-869b-bd45927a1a66",
      "cell_type": "code",
      "source": [
        "# 3.3: Correlation heatmap\n",
        "corr = df.corr()\n",
        "plt.figure(figsize=(10, 6))\n",
        "sns.heatmap(corr[['BeatsPerMinute']].sort_values(by='BeatsPerMinute', ascending=False), annot=True, cmap='coolwarm')\n",
        "plt.title('Correlation with BeatsPerMinute')\n",
        "plt.show()"
      ],
      "metadata": {
        "trusted": true,
        "id": "c633e51e-3de7-4300-869b-bd45927a1a66"
      },
      "outputs": [],
      "execution_count": null
    },
    {
      "id": "602f979d-414a-417f-a465-8f22fc2fdb86",
      "cell_type": "markdown",
      "source": [
        "Observation: Energy and RhythmScore appear most correlated with BPM."
      ],
      "metadata": {
        "id": "602f979d-414a-417f-a465-8f22fc2fdb86"
      }
    },
    {
      "id": "c205457a-eb62-4e87-9b86-12a60ebc65d5",
      "cell_type": "code",
      "source": [
        "# --- 4. FEATURE/TARGET SEPARATION & TRAIN-VALIDATION SPLIT ---\n",
        "x = df.drop(['id', 'BeatsPerMinute'], axis=1)\n",
        "y = df['BeatsPerMinute']\n",
        "print(\"Features shape:\", x.shape)\n",
        "print(\"Target shape:\", y.shape)"
      ],
      "metadata": {
        "trusted": true,
        "id": "c205457a-eb62-4e87-9b86-12a60ebc65d5"
      },
      "outputs": [],
      "execution_count": null
    },
    {
      "id": "c784e898-182e-4488-8506-2908b1c9af3f",
      "cell_type": "code",
      "source": [
        "x_train, x_val, y_train, y_val = train_test_split(x, y, test_size=0.2, random_state=42)\n",
        "print(\"X_train shape:\", x_train.shape)\n",
        "print(\"X_val shape:\", x_val.shape)"
      ],
      "metadata": {
        "trusted": true,
        "id": "c784e898-182e-4488-8506-2908b1c9af3f"
      },
      "outputs": [],
      "execution_count": null
    },
    {
      "id": "87a5febe-1f20-486b-9abe-26e728b85d7f",
      "cell_type": "code",
      "source": [
        "# --- FEATURE SCALING ---\n",
        "scaler = StandardScaler()\n",
        "x_train_scaled = scaler.fit_transform(x_train)\n",
        "x_val_scaled = scaler.transform(x_val)\n",
        "print(\"Scaled Training shape:\", x_train_scaled.shape)\n",
        "print(\"Scaled Validation shape:\", x_val_scaled.shape)\n"
      ],
      "metadata": {
        "trusted": true,
        "id": "87a5febe-1f20-486b-9abe-26e728b85d7f"
      },
      "outputs": [],
      "execution_count": null
    },
    {
      "id": "83dee02b-af19-47fa-b7c3-7778bc7533ca",
      "cell_type": "code",
      "source": [
        "# --- 5. MODEL TRAINING & EVALUATION ---\n",
        "\n",
        "# 5.1 Linear Regression\n",
        "lr_model = LinearRegression()\n",
        "lr_model.fit(x_train_scaled, y_train)\n",
        "y_val_pred = lr_model.predict(x_val_scaled)\n",
        "mae_lr = mean_absolute_error(y_val, y_val_pred)\n",
        "rmse_lr = np.sqrt(mean_squared_error(y_val, y_val_pred))\n",
        "print(f\"[Linear Regression] Validation MAE: {mae_lr:.2f}\")\n",
        "print(f\"[Linear Regression] Validation RMSE: {rmse_lr:.2f}\")"
      ],
      "metadata": {
        "trusted": true,
        "id": "83dee02b-af19-47fa-b7c3-7778bc7533ca"
      },
      "outputs": [],
      "execution_count": null
    },
    {
      "id": "6e6b6f17-2e81-4f40-a632-05f631cc52aa",
      "cell_type": "code",
      "source": [
        "# 5.2 Random Forest Regressor\n",
        "rf_model = RandomForestRegressor(n_estimators=100, max_depth=None, random_state=42, n_jobs=-1)\n",
        "rf_model.fit(x_train_scaled, y_train)\n",
        "y_val_pred_rf = rf_model.predict(x_val_scaled)\n",
        "mae_rf = mean_absolute_error(y_val, y_val_pred_rf)\n",
        "rmse_rf = np.sqrt(mean_squared_error(y_val, y_val_pred_rf))\n",
        "print(f\"[Random Forest] Validation MAE: {mae_rf:.2f}\")\n",
        "print(f\"[Random Forest] Validation RMSE: {rmse_rf:.2f}\")"
      ],
      "metadata": {
        "trusted": true,
        "id": "6e6b6f17-2e81-4f40-a632-05f631cc52aa"
      },
      "outputs": [],
      "execution_count": null
    },
    {
      "id": "d8bd5a2f-f4e8-49ad-8e1f-582ae77ec0ca",
      "cell_type": "code",
      "source": [
        "# 5.3 Gradient Boosting Regressor\n",
        "gb_model = GradientBoostingRegressor(n_estimators=100, max_depth=5, random_state=42)\n",
        "gb_model.fit(x_train_scaled, y_train)\n",
        "y_val_pred_gb = gb_model.predict(x_val_scaled)\n",
        "mae_gb = mean_absolute_error(y_val, y_val_pred_gb)\n",
        "rmse_gb = np.sqrt(mean_squared_error(y_val, y_val_pred_gb))\n",
        "print(f\"[Gradient Boosting] Validation MAE: {mae_gb:.2f}\")\n",
        "print(f\"[Gradient Boosting] Validation RMSE: {rmse_gb:.2f}\")\n"
      ],
      "metadata": {
        "trusted": true,
        "id": "d8bd5a2f-f4e8-49ad-8e1f-582ae77ec0ca"
      },
      "outputs": [],
      "execution_count": null
    },
    {
      "id": "7a5a5afa-584c-4c58-9a5c-b3002a2d0f58",
      "cell_type": "code",
      "source": [
        "# --- 6. MODEL COMPARISON SUMMARY ---\n",
        "print(\"\\n**MODEL COMPARISON TABLE**\")\n",
        "print(f\"Linear Regression   MAE: {mae_lr:.2f}  RMSE: {rmse_lr:.2f}\")\n",
        "print(f\"Random Forest       MAE: {mae_rf:.2f}  RMSE: {rmse_rf:.2f}\")\n",
        "print(f\"Gradient Boosting   MAE: {mae_gb:.2f}  RMSE: {rmse_gb:.2f}\")\n",
        "print(\"\\nObservation: Linear Regression and Gradient Boosting performed almost identically and best, suggesting data is quite linear or more advanced models need heavier tuning.\")\n"
      ],
      "metadata": {
        "trusted": true,
        "id": "7a5a5afa-584c-4c58-9a5c-b3002a2d0f58"
      },
      "outputs": [],
      "execution_count": null
    },
    {
      "id": "51b1bcae-9a11-418a-852c-69bdc1ed7d60",
      "cell_type": "code",
      "source": [
        "# --- 7. RETRAIN FINAL (BEST) MODEL ON ALL TRAINING DATA & PREPARE SUBMISSION ---\n",
        "# Using Gradient Boosting here based on validation performance\n",
        "\n",
        "x_full = x\n",
        "y_full = y\n",
        "x_full_scaled = scaler.fit_transform(x_full)\n",
        "gb_model_final = GradientBoostingRegressor(n_estimators=50, max_depth=5, random_state=42)\n",
        "gb_model_final.fit(x_full_scaled, y_full)"
      ],
      "metadata": {
        "trusted": true,
        "id": "51b1bcae-9a11-418a-852c-69bdc1ed7d60"
      },
      "outputs": [],
      "execution_count": null
    },
    {
      "id": "1b1f805c-6b82-4997-9af0-80ae0f0ed29d",
      "cell_type": "code",
      "source": [
        "# --- 8. PREDICT ON TEST DATA ---\n",
        "test_df = pd.read_csv(\"test.csv\")\n",
        "test_ids = test_df['id']\n",
        "x_test = test_df.drop(['id'], axis=1)\n",
        "x_test_scaled = scaler.transform(x_test)\n",
        "test_preds = gb_model_final.predict(x_test_scaled)\n",
        "\n",
        "submission = pd.DataFrame({\n",
        "    'ID': test_ids,\n",
        "    'BeatsPerMinute': test_preds\n",
        "})\n",
        "submission.to_csv('submission.csv', index=False)\n",
        "print(\"\\n[INFO] submission.csv created successfully!\")\n"
      ],
      "metadata": {
        "trusted": true,
        "id": "1b1f805c-6b82-4997-9af0-80ae0f0ed29d"
      },
      "outputs": [],
      "execution_count": null
    },
    {
      "id": "a20f9685-3918-49fd-9405-90269208a7bd",
      "cell_type": "markdown",
      "source": [
        " --- 9. PROJECT REFLECTION / CONCLUSION ---\n",
        "1. In this project, I explored a large music dataset and built regression models to predict BeatsPerMinute.\n",
        "2. Visualization of distributions and correlations helped in understanding the data.\n",
        "3. Three models (Linear Regression, Random Forest, Gradient Boosting) were compared for accuracy.\n",
        "3. Gradient Boosting and Linear Regression achieved the best MAE/RMSE scores, showing the data's relationships are mostly linear.\n",
        "4. For larger datasets or faster training, I would consider GPU-accelerated models (XGBoost/LightGBM)."
      ],
      "metadata": {
        "id": "a20f9685-3918-49fd-9405-90269208a7bd"
      }
    }
  ]
}